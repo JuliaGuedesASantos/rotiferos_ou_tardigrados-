{
 "cells": [
  {
   "cell_type": "markdown",
   "metadata": {
    "id": "691PhYWwj1kd"
   },
   "source": [
    "# **4.6.1 - \"Rotífero ou tardígrado?\": Trabalhando com as imagens** 🐛🐻🖼️\n",
    "**Objetivo**: Implementar uma rede neural convolucional (CNN) utilizando PyTorch ou lightning. Treine esta rede neural em um conjunto de dados de imagens. Explique para o leitor como funciona a camada de convolução de uma CNN  e o motivo de utilizarmos este tipo de arquitetura quando estudamos imagens.\n",
    "\n",
    "**Dupla**: Júlia Guedes A. dos Santos & Lorena Ribeiro Nascimento\n",
    "***"
   ]
  },
  {
   "cell_type": "markdown",
   "metadata": {
    "id": "YadiO1J4ojD0"
   },
   "source": [
    "### **Introdução** 💡"
   ]
  },
  {
   "cell_type": "markdown",
   "metadata": {
    "id": "M1-WTBO5oo_Q"
   },
   "source": [
    "<p style=\"text-align:justify;\">\n",
    "O Dataset criado nesse notebook contêm imagens de Tardígrados e Rotíferos, visto que, devido a ética científica, invertebrados vem sendo cada vez mais\n",
    "utilizados em análises biológicas e ecológicas. Dentre os invertebrados com aplicações biológicas, destaca-se os C. elegans, rotíferos e tardígrados.\n",
    "</p>\n",
    "\n",
    "<p style=\"text-align:justify;\">\n",
    "Rotíferos são organismos microscópicos utilizados em análises ecológicas e toxicológicas, por conta da sua sensibilidade físico-química a mudanças do ambiente. Já os tardígrados são seres de tamanho entre 3-5 mm, que possuem capacidade criptobiótica mediante estresses ambientais, permitindo alta resistência. Essa capacidade é foco de estudos na área de fármacos e terapias, além de análise ecológicas devido a resposta a mudanças ambientais.\n",
    "</p>\n",
    "\n",
    "<p style=\"text-align:justify;\">\n",
    "Todavia a distinção desses organismos em microscópicos óticos é dificultosa, devido a presença de liquens e diversos outros organismos semelhantas,por conta, também, das diferenças entre espécies de rotíferos e de tardígrados, além da posição, transparência e outros aspectos de visualização da imagem.\n",
    "</p>\n",
    "\n",
    "<p style=\"text-align:justify;\">\n",
    "Assim, nesse notebook pretende-se fazer a leitura do dataset criado a partir das imagens coletadas na internet e do microscópio ótico da Ilum-Escola de Ciência. Ao todo, foram coletadas 39 imagens de tardígrados e 32 de rotíferos, sendo que os conjuntos de teste e validação foram compostos por 10 figuras cada e o restante foi contemplado pelos dados de treino. Essas imagens foram compactadas em um arquivo em formato zip em que estão divididas em pastas de treino, validação e teste. Além disso, como é difícil encontrar imagens desses organismos, buscamos aumentar os dados de treino por meio de técnicas de modificações de imagens, tais como rotações e adição de ruídos.\n",
    "</p>\n"
   ]
  },
  {
   "cell_type": "markdown",
   "metadata": {
    "id": "pwr1xmp4obGB"
   },
   "source": [
    "### **Importação de bibliotecas** 📚"
   ]
  },
  {
   "cell_type": "markdown",
   "metadata": {
    "id": "CKW433ZBoha8"
   },
   "source": [
    "Em primeiro lugar, precisamos importar as bibliotecas necessárias para a resolução da tarefa proposta, as quais envolvem os processos de importação dos arquivos e plot das imagens."
   ]
  },
  {
   "cell_type": "code",
   "execution_count": 29,
   "metadata": {
    "id": "tiKSOUBtp2_V"
   },
   "outputs": [],
   "source": [
    "# Importação da base de dados\n",
    "from google.colab import files\n",
    "\n",
    "# Módulos do matplotlib\n",
    "import matplotlib.pyplot as plt\n",
    "import matplotlib.image as mpimg\n",
    "\n",
    "# Bibliotecas para definição de diretório\n",
    "import zipfile\n",
    "import os\n",
    "\n",
    "#Image Augmentation\n",
    "from skimage import exposure\n",
    "from skimage.util import random_noise\n",
    "from skimage import transform\n",
    "from cv2 import resize\n",
    "import numpy as np\n",
    "import shutil\n",
    "\n",
    "#Image redimension\n",
    "import torchvision.transforms as transforms\n",
    "from PIL import Image\n",
    "import shutil"
   ]
  },
  {
   "cell_type": "markdown",
   "metadata": {
    "id": "xnJY9rPdqWMV"
   },
   "source": [
    "### **Download dos dados** 🎲"
   ]
  },
  {
   "cell_type": "markdown",
   "metadata": {
    "id": "f6WTEqUvHfX6"
   },
   "source": [
    "Primeiramente, precisamos importar as imagens. Para isso, por meio da função \"files.upload\" - própria da biblioteca Colab - iremos importar o zip que contém as imagens coletadas. Após descompactar os arquivos, esses serão contidos no diretório \"/content/imagens\", sendo que cada pasta contida no zip dará origem a uma nova pasta no diretório."
   ]
  },
  {
   "cell_type": "code",
   "execution_count": 30,
   "metadata": {
    "colab": {
     "base_uri": "https://localhost:8080/",
     "height": 73
    },
    "id": "1IUEpRdfnjPH",
    "outputId": "2913a2f8-64da-479f-8c4f-9871fdb657cb"
   },
   "outputs": [
    {
     "data": {
      "text/html": [
       "\n",
       "     <input type=\"file\" id=\"files-2e16f7f7-51a1-48ae-8ba4-f8d9a3ec2979\" name=\"files[]\" multiple disabled\n",
       "        style=\"border:none\" />\n",
       "     <output id=\"result-2e16f7f7-51a1-48ae-8ba4-f8d9a3ec2979\">\n",
       "      Upload widget is only available when the cell has been executed in the\n",
       "      current browser session. Please rerun this cell to enable.\n",
       "      </output>\n",
       "      <script>// Copyright 2017 Google LLC\n",
       "//\n",
       "// Licensed under the Apache License, Version 2.0 (the \"License\");\n",
       "// you may not use this file except in compliance with the License.\n",
       "// You may obtain a copy of the License at\n",
       "//\n",
       "//      http://www.apache.org/licenses/LICENSE-2.0\n",
       "//\n",
       "// Unless required by applicable law or agreed to in writing, software\n",
       "// distributed under the License is distributed on an \"AS IS\" BASIS,\n",
       "// WITHOUT WARRANTIES OR CONDITIONS OF ANY KIND, either express or implied.\n",
       "// See the License for the specific language governing permissions and\n",
       "// limitations under the License.\n",
       "\n",
       "/**\n",
       " * @fileoverview Helpers for google.colab Python module.\n",
       " */\n",
       "(function(scope) {\n",
       "function span(text, styleAttributes = {}) {\n",
       "  const element = document.createElement('span');\n",
       "  element.textContent = text;\n",
       "  for (const key of Object.keys(styleAttributes)) {\n",
       "    element.style[key] = styleAttributes[key];\n",
       "  }\n",
       "  return element;\n",
       "}\n",
       "\n",
       "// Max number of bytes which will be uploaded at a time.\n",
       "const MAX_PAYLOAD_SIZE = 100 * 1024;\n",
       "\n",
       "function _uploadFiles(inputId, outputId) {\n",
       "  const steps = uploadFilesStep(inputId, outputId);\n",
       "  const outputElement = document.getElementById(outputId);\n",
       "  // Cache steps on the outputElement to make it available for the next call\n",
       "  // to uploadFilesContinue from Python.\n",
       "  outputElement.steps = steps;\n",
       "\n",
       "  return _uploadFilesContinue(outputId);\n",
       "}\n",
       "\n",
       "// This is roughly an async generator (not supported in the browser yet),\n",
       "// where there are multiple asynchronous steps and the Python side is going\n",
       "// to poll for completion of each step.\n",
       "// This uses a Promise to block the python side on completion of each step,\n",
       "// then passes the result of the previous step as the input to the next step.\n",
       "function _uploadFilesContinue(outputId) {\n",
       "  const outputElement = document.getElementById(outputId);\n",
       "  const steps = outputElement.steps;\n",
       "\n",
       "  const next = steps.next(outputElement.lastPromiseValue);\n",
       "  return Promise.resolve(next.value.promise).then((value) => {\n",
       "    // Cache the last promise value to make it available to the next\n",
       "    // step of the generator.\n",
       "    outputElement.lastPromiseValue = value;\n",
       "    return next.value.response;\n",
       "  });\n",
       "}\n",
       "\n",
       "/**\n",
       " * Generator function which is called between each async step of the upload\n",
       " * process.\n",
       " * @param {string} inputId Element ID of the input file picker element.\n",
       " * @param {string} outputId Element ID of the output display.\n",
       " * @return {!Iterable<!Object>} Iterable of next steps.\n",
       " */\n",
       "function* uploadFilesStep(inputId, outputId) {\n",
       "  const inputElement = document.getElementById(inputId);\n",
       "  inputElement.disabled = false;\n",
       "\n",
       "  const outputElement = document.getElementById(outputId);\n",
       "  outputElement.innerHTML = '';\n",
       "\n",
       "  const pickedPromise = new Promise((resolve) => {\n",
       "    inputElement.addEventListener('change', (e) => {\n",
       "      resolve(e.target.files);\n",
       "    });\n",
       "  });\n",
       "\n",
       "  const cancel = document.createElement('button');\n",
       "  inputElement.parentElement.appendChild(cancel);\n",
       "  cancel.textContent = 'Cancel upload';\n",
       "  const cancelPromise = new Promise((resolve) => {\n",
       "    cancel.onclick = () => {\n",
       "      resolve(null);\n",
       "    };\n",
       "  });\n",
       "\n",
       "  // Wait for the user to pick the files.\n",
       "  const files = yield {\n",
       "    promise: Promise.race([pickedPromise, cancelPromise]),\n",
       "    response: {\n",
       "      action: 'starting',\n",
       "    }\n",
       "  };\n",
       "\n",
       "  cancel.remove();\n",
       "\n",
       "  // Disable the input element since further picks are not allowed.\n",
       "  inputElement.disabled = true;\n",
       "\n",
       "  if (!files) {\n",
       "    return {\n",
       "      response: {\n",
       "        action: 'complete',\n",
       "      }\n",
       "    };\n",
       "  }\n",
       "\n",
       "  for (const file of files) {\n",
       "    const li = document.createElement('li');\n",
       "    li.append(span(file.name, {fontWeight: 'bold'}));\n",
       "    li.append(span(\n",
       "        `(${file.type || 'n/a'}) - ${file.size} bytes, ` +\n",
       "        `last modified: ${\n",
       "            file.lastModifiedDate ? file.lastModifiedDate.toLocaleDateString() :\n",
       "                                    'n/a'} - `));\n",
       "    const percent = span('0% done');\n",
       "    li.appendChild(percent);\n",
       "\n",
       "    outputElement.appendChild(li);\n",
       "\n",
       "    const fileDataPromise = new Promise((resolve) => {\n",
       "      const reader = new FileReader();\n",
       "      reader.onload = (e) => {\n",
       "        resolve(e.target.result);\n",
       "      };\n",
       "      reader.readAsArrayBuffer(file);\n",
       "    });\n",
       "    // Wait for the data to be ready.\n",
       "    let fileData = yield {\n",
       "      promise: fileDataPromise,\n",
       "      response: {\n",
       "        action: 'continue',\n",
       "      }\n",
       "    };\n",
       "\n",
       "    // Use a chunked sending to avoid message size limits. See b/62115660.\n",
       "    let position = 0;\n",
       "    do {\n",
       "      const length = Math.min(fileData.byteLength - position, MAX_PAYLOAD_SIZE);\n",
       "      const chunk = new Uint8Array(fileData, position, length);\n",
       "      position += length;\n",
       "\n",
       "      const base64 = btoa(String.fromCharCode.apply(null, chunk));\n",
       "      yield {\n",
       "        response: {\n",
       "          action: 'append',\n",
       "          file: file.name,\n",
       "          data: base64,\n",
       "        },\n",
       "      };\n",
       "\n",
       "      let percentDone = fileData.byteLength === 0 ?\n",
       "          100 :\n",
       "          Math.round((position / fileData.byteLength) * 100);\n",
       "      percent.textContent = `${percentDone}% done`;\n",
       "\n",
       "    } while (position < fileData.byteLength);\n",
       "  }\n",
       "\n",
       "  // All done.\n",
       "  yield {\n",
       "    response: {\n",
       "      action: 'complete',\n",
       "    }\n",
       "  };\n",
       "}\n",
       "\n",
       "scope.google = scope.google || {};\n",
       "scope.google.colab = scope.google.colab || {};\n",
       "scope.google.colab._files = {\n",
       "  _uploadFiles,\n",
       "  _uploadFilesContinue,\n",
       "};\n",
       "})(self);\n",
       "</script> "
      ],
      "text/plain": [
       "<IPython.core.display.HTML object>"
      ]
     },
     "metadata": {},
     "output_type": "display_data"
    },
    {
     "name": "stdout",
     "output_type": "stream",
     "text": [
      "Saving dataset_Rotiferos-tardigrados.zip to dataset_Rotiferos-tardigrados (1).zip\n"
     ]
    }
   ],
   "source": [
    "uploaded = files.upload()"
   ]
  },
  {
   "cell_type": "code",
   "execution_count": 31,
   "metadata": {
    "colab": {
     "base_uri": "https://localhost:8080/"
    },
    "id": "hgJYpGfsqtTr",
    "outputId": "a07b88e3-6495-4b80-c1d9-b566cc330689"
   },
   "outputs": [
    {
     "name": "stdout",
     "output_type": "stream",
     "text": [
      "Archive:  dataset_Rotiferos-tardigrados.zip\n",
      "   creating: Rotiferos-tardigrados/\n",
      "   creating: Rotiferos-tardigrados/Teste/\n",
      "   creating: Rotiferos-tardigrados/Teste/Rotiferos/\n",
      "  inflating: Rotiferos-tardigrados/Teste/Rotiferos/Imagem 31.jpg  \n",
      "  inflating: Rotiferos-tardigrados/Teste/Rotiferos/Imagem23.jpg  \n",
      "  inflating: Rotiferos-tardigrados/Teste/Rotiferos/Imagem24.jpg  \n",
      "  inflating: Rotiferos-tardigrados/Teste/Rotiferos/Imagem25.jpg  \n",
      "  inflating: Rotiferos-tardigrados/Teste/Rotiferos/Imagem26.jpg  \n",
      "  inflating: Rotiferos-tardigrados/Teste/Rotiferos/Imagem27.jpg  \n",
      "  inflating: Rotiferos-tardigrados/Teste/Rotiferos/Imagem28.jpg  \n",
      "  inflating: Rotiferos-tardigrados/Teste/Rotiferos/Imagem29.jpg  \n",
      "  inflating: Rotiferos-tardigrados/Teste/Rotiferos/Imagem30.jpg  \n",
      "  inflating: Rotiferos-tardigrados/Teste/Rotiferos/Imagem32.jpg  \n",
      "   creating: Rotiferos-tardigrados/Teste/Tardigrados/\n",
      "  inflating: Rotiferos-tardigrados/Teste/Tardigrados/grado.jpg  \n",
      "  inflating: Rotiferos-tardigrados/Teste/Tardigrados/gradoss.jpg  \n",
      "  inflating: Rotiferos-tardigrados/Teste/Tardigrados/imagem1.jpg  \n",
      "  inflating: Rotiferos-tardigrados/Teste/Tardigrados/imagem20.jpg  \n",
      "  inflating: Rotiferos-tardigrados/Teste/Tardigrados/imagem21.jpg  \n",
      "  inflating: Rotiferos-tardigrados/Teste/Tardigrados/imagem22.png  \n",
      "  inflating: Rotiferos-tardigrados/Teste/Tardigrados/images 13.jpg  \n",
      "  inflating: Rotiferos-tardigrados/Teste/Tardigrados/images14.jpg  \n",
      "  inflating: Rotiferos-tardigrados/Teste/Tardigrados/Mídia.jpg  \n",
      "  inflating: Rotiferos-tardigrados/Teste/Tardigrados/Tardigrade-1.jpg  \n",
      "   creating: Rotiferos-tardigrados/Treino/\n",
      "   creating: Rotiferos-tardigrados/Treino/Rotiferos/\n",
      "  inflating: Rotiferos-tardigrados/Treino/Rotiferos/Imagem1.jpg  \n",
      "  inflating: Rotiferos-tardigrados/Treino/Rotiferos/Imagem10.jpg  \n",
      "  inflating: Rotiferos-tardigrados/Treino/Rotiferos/Imagem11.jpg  \n",
      "  inflating: Rotiferos-tardigrados/Treino/Rotiferos/Imagem12.jpg  \n",
      "  inflating: Rotiferos-tardigrados/Treino/Rotiferos/Imagem2.jpg  \n",
      "  inflating: Rotiferos-tardigrados/Treino/Rotiferos/Imagem3.jpg  \n",
      "  inflating: Rotiferos-tardigrados/Treino/Rotiferos/Imagem4.jpg  \n",
      "  inflating: Rotiferos-tardigrados/Treino/Rotiferos/Imagem5.jpg  \n",
      "  inflating: Rotiferos-tardigrados/Treino/Rotiferos/Imagem6.jpg  \n",
      "  inflating: Rotiferos-tardigrados/Treino/Rotiferos/Imagem7.jpg  \n",
      "  inflating: Rotiferos-tardigrados/Treino/Rotiferos/Imagem8.jpg  \n",
      "  inflating: Rotiferos-tardigrados/Treino/Rotiferos/Imagem9.jpg  \n",
      "   creating: Rotiferos-tardigrados/Treino/Tardigrados/\n",
      "  inflating: Rotiferos-tardigrados/Treino/Tardigrados/Captura de tela 2025-04-12 155025.png  \n",
      "  inflating: Rotiferos-tardigrados/Treino/Tardigrados/Captura de tela 2025-04-12 155222.png  \n",
      "  inflating: Rotiferos-tardigrados/Treino/Tardigrados/Captura de tela 2025-04-12 155323.png  \n",
      "  inflating: Rotiferos-tardigrados/Treino/Tardigrados/image5.jpg  \n",
      "  inflating: Rotiferos-tardigrados/Treino/Tardigrados/imagem10.jpg  \n",
      "  inflating: Rotiferos-tardigrados/Treino/Tardigrados/imagem11.jpg  \n",
      "  inflating: Rotiferos-tardigrados/Treino/Tardigrados/imagem12.jpg  \n",
      "  inflating: Rotiferos-tardigrados/Treino/Tardigrados/imagem15.jpg  \n",
      "  inflating: Rotiferos-tardigrados/Treino/Tardigrados/imagem16.jpg  \n",
      "  inflating: Rotiferos-tardigrados/Treino/Tardigrados/imagem17.jpg  \n",
      "  inflating: Rotiferos-tardigrados/Treino/Tardigrados/imagem18.jpg  \n",
      "  inflating: Rotiferos-tardigrados/Treino/Tardigrados/imagem19.jpg  \n",
      "  inflating: Rotiferos-tardigrados/Treino/Tardigrados/imagem4.jpg  \n",
      "  inflating: Rotiferos-tardigrados/Treino/Tardigrados/imagem6.jpg  \n",
      "  inflating: Rotiferos-tardigrados/Treino/Tardigrados/imagem7.jpg  \n",
      "  inflating: Rotiferos-tardigrados/Treino/Tardigrados/imagem8.jpg  \n",
      "  inflating: Rotiferos-tardigrados/Treino/Tardigrados/imagem9.jpg  \n",
      "  inflating: Rotiferos-tardigrados/Treino/Tardigrados/imagem_complicada.jpg  \n",
      "  inflating: Rotiferos-tardigrados/Treino/Tardigrados/tardigrado-microscopio.jpg  \n",
      "   creating: Rotiferos-tardigrados/Validação/\n",
      "   creating: Rotiferos-tardigrados/Validação/Rotiferos/\n",
      "  inflating: Rotiferos-tardigrados/Validação/Rotiferos/Imagem13.jpg  \n",
      "  inflating: Rotiferos-tardigrados/Validação/Rotiferos/Imagem14.png  \n",
      "  inflating: Rotiferos-tardigrados/Validação/Rotiferos/Imagem15.jpg  \n",
      "  inflating: Rotiferos-tardigrados/Validação/Rotiferos/Imagem16.JPG  \n",
      "  inflating: Rotiferos-tardigrados/Validação/Rotiferos/Imagem17.jpg  \n",
      "  inflating: Rotiferos-tardigrados/Validação/Rotiferos/Imagem18.jpg  \n",
      "  inflating: Rotiferos-tardigrados/Validação/Rotiferos/Imagem19.jpg  \n",
      "  inflating: Rotiferos-tardigrados/Validação/Rotiferos/Imagem20.jpg  \n",
      "  inflating: Rotiferos-tardigrados/Validação/Rotiferos/Imagem21.jpg  \n",
      "  inflating: Rotiferos-tardigrados/Validação/Rotiferos/Imagem22.jpg  \n",
      "   creating: Rotiferos-tardigrados/Validação/Tardigrados/\n",
      "  inflating: Rotiferos-tardigrados/Validação/Tardigrados/imagem23.png  \n",
      "  inflating: Rotiferos-tardigrados/Validação/Tardigrados/imagem24.png  \n",
      "  inflating: Rotiferos-tardigrados/Validação/Tardigrados/imagem25.jpg  \n",
      "  inflating: Rotiferos-tardigrados/Validação/Tardigrados/images.jpg  \n",
      "  inflating: Rotiferos-tardigrados/Validação/Tardigrados/images3.jpg  \n",
      "  inflating: Rotiferos-tardigrados/Validação/Tardigrados/tardi.jpg  \n",
      "  inflating: Rotiferos-tardigrados/Validação/Tardigrados/tardig.jpg  \n",
      "  inflating: Rotiferos-tardigrados/Validação/Tardigrados/tardigrados.jpg  \n",
      "  inflating: Rotiferos-tardigrados/Validação/Tardigrados/tardigradosss.jpg  \n",
      "  inflating: Rotiferos-tardigrados/Validação/Tardigrados/tardisss.jpg  \n"
     ]
    }
   ],
   "source": [
    "!unzip dataset_Rotiferos-tardigrados.zip"
   ]
  },
  {
   "cell_type": "code",
   "execution_count": 34,
   "metadata": {
    "id": "wnBA6M8HyvAK"
   },
   "outputs": [],
   "source": [
    "zip_path = \"/content/dataset_Rotiferos-tardigrados.zip\"  # Caminho para seu zip\n",
    "# extract_path = \"/content/imagens\"     # Pasta onde os arquivos serão extraídos\n",
    "extract_path = \"/content\"\n",
    "with zipfile.ZipFile(zip_path, 'r') as zip_ref:\n",
    "    zip_ref.extractall(extract_path)"
   ]
  },
  {
   "cell_type": "code",
   "execution_count": 45,
   "metadata": {
    "colab": {
     "base_uri": "https://localhost:8080/"
    },
    "id": "UeErbDSjRyst",
    "outputId": "494bc307-bd37-42eb-ac26-09046f7e516f",
    "scrolled": true
   },
   "outputs": [
    {
     "data": {
      "text/plain": [
       "['.config',\n",
       " 'resized_image49.jpg',\n",
       " 'resized_image21.jpg',\n",
       " 'resized_image54.jpg',\n",
       " 'resized_image7.jpg',\n",
       " 'dataset_Rotiferos-tardigrados.zip',\n",
       " 'resized_image44.jpg',\n",
       " 'resized_image50.jpg',\n",
       " 'resized_image41.jpg',\n",
       " 'resized_image20.jpg',\n",
       " 'resized_image40.jpg',\n",
       " 'resized_image14.jpg',\n",
       " 'resized_image53.jpg',\n",
       " 'resized_image39.jpg',\n",
       " 'resized_image36.jpg',\n",
       " 'resized_image6.jpg',\n",
       " 'resized_image19.jpg',\n",
       " 'resized_image35.jpg',\n",
       " 'resized_image27.jpg',\n",
       " 'resized_image11.jpg',\n",
       " 'resized_image43.jpg',\n",
       " 'Rotiferos-tardigrados (4).zip',\n",
       " 'resized_image2.jpg',\n",
       " 'resized_image9.jpg',\n",
       " 'imagens',\n",
       " 'resized_image46.jpg',\n",
       " 'resized_image37.jpg',\n",
       " 'resized_image13.jpg',\n",
       " 'resized_image22.jpg',\n",
       " 'Rotiferos-tardigrados.zip',\n",
       " 'resized_image47.jpg',\n",
       " 'resized_image52.jpg',\n",
       " 'resized_image24.jpg',\n",
       " 'Rotiferos-tardigrados (1).zip',\n",
       " 'resized_image1.jpg',\n",
       " 'resized_image45.jpg',\n",
       " 'Rotiferos-tardigrados (2).zip',\n",
       " 'resized_image3.jpg',\n",
       " 'resized_image17.jpg',\n",
       " 'resized_image23.jpg',\n",
       " 'resized_image30.jpg',\n",
       " 'rotiferos_tardigrados_aumentado.zip',\n",
       " 'resized_image15.jpg',\n",
       " 'resized_image29.jpg',\n",
       " 'resized_image28.jpg',\n",
       " 'resized_image42.jpg',\n",
       " 'resized_image34.jpg',\n",
       " 'resized_image5.jpg',\n",
       " 'dataset_Rotiferos-tardigrados (1).zip',\n",
       " 'resized_image10.jpg',\n",
       " 'resized_image26.jpg',\n",
       " 'resized_image18.jpg',\n",
       " 'resized_image8.jpg',\n",
       " 'resized_image25.jpg',\n",
       " 'Rotiferos-tardigrados',\n",
       " 'resized_image51.jpg',\n",
       " 'resized_image16.jpg',\n",
       " 'resized_image12.jpg',\n",
       " 'resized_image33.jpg',\n",
       " 'resized_image31.jpg',\n",
       " 'resized_image32.jpg',\n",
       " 'Rotiferos-tardigrados (3).zip',\n",
       " 'resized_image48.jpg',\n",
       " 'resized_image38.jpg',\n",
       " 'resized_image4.jpg',\n",
       " 'sample_data']"
      ]
     },
     "execution_count": 45,
     "metadata": {},
     "output_type": "execute_result"
    }
   ],
   "source": [
    "os.listdir(\"/content/\")"
   ]
  },
  {
   "cell_type": "markdown",
   "metadata": {
    "id": "1lUnDdp_M-tG"
   },
   "source": [
    "Após baixar os dados, por meio da biblioteca Matplotlib, podemos visualizar as imagens."
   ]
  },
  {
   "cell_type": "code",
   "execution_count": 36,
   "metadata": {
    "colab": {
     "base_uri": "https://localhost:8080/",
     "height": 391
    },
    "id": "2iyg4Mi5y0y8",
    "outputId": "f4382ac2-0fab-4d8a-a1ac-6165a99c3f91"
   },
   "outputs": [
    {
     "ename": "FileNotFoundError",
     "evalue": "[Errno 2] No such file or directory: '/content/dataset_Rotiferos-tardigrados/Treino/Tardigrados/imagem12.jpg'",
     "output_type": "error",
     "traceback": [
      "\u001b[0;31m---------------------------------------------------------------------------\u001b[0m",
      "\u001b[0;31mFileNotFoundError\u001b[0m                         Traceback (most recent call last)",
      "\u001b[0;32m<ipython-input-36-b19a15c29cfb>\u001b[0m in \u001b[0;36m<cell line: 0>\u001b[0;34m()\u001b[0m\n\u001b[1;32m      1\u001b[0m \u001b[0mimg_path\u001b[0m \u001b[0;34m=\u001b[0m \u001b[0mos\u001b[0m\u001b[0;34m.\u001b[0m\u001b[0mpath\u001b[0m\u001b[0;34m.\u001b[0m\u001b[0mjoin\u001b[0m\u001b[0;34m(\u001b[0m\u001b[0mextract_path\u001b[0m\u001b[0;34m,\u001b[0m \u001b[0;34m\"/content/dataset_Rotiferos-tardigrados/Treino/Tardigrados/imagem12.jpg\"\u001b[0m\u001b[0;34m)\u001b[0m\u001b[0;34m\u001b[0m\u001b[0;34m\u001b[0m\u001b[0m\n\u001b[0;32m----> 2\u001b[0;31m \u001b[0mimg\u001b[0m \u001b[0;34m=\u001b[0m \u001b[0mmpimg\u001b[0m\u001b[0;34m.\u001b[0m\u001b[0mimread\u001b[0m\u001b[0;34m(\u001b[0m\u001b[0mimg_path\u001b[0m\u001b[0;34m)\u001b[0m\u001b[0;34m\u001b[0m\u001b[0;34m\u001b[0m\u001b[0m\n\u001b[0m\u001b[1;32m      3\u001b[0m \u001b[0;34m\u001b[0m\u001b[0m\n\u001b[1;32m      4\u001b[0m \u001b[0mplt\u001b[0m\u001b[0;34m.\u001b[0m\u001b[0mimshow\u001b[0m\u001b[0;34m(\u001b[0m\u001b[0mimg\u001b[0m\u001b[0;34m)\u001b[0m\u001b[0;34m\u001b[0m\u001b[0;34m\u001b[0m\u001b[0m\n\u001b[1;32m      5\u001b[0m \u001b[0mplt\u001b[0m\u001b[0;34m.\u001b[0m\u001b[0maxis\u001b[0m\u001b[0;34m(\u001b[0m\u001b[0;34m'off'\u001b[0m\u001b[0;34m)\u001b[0m\u001b[0;34m\u001b[0m\u001b[0;34m\u001b[0m\u001b[0m\n",
      "\u001b[0;32m/usr/local/lib/python3.11/dist-packages/matplotlib/image.py\u001b[0m in \u001b[0;36mimread\u001b[0;34m(fname, format)\u001b[0m\n\u001b[1;32m   1500\u001b[0m             \u001b[0;34m\"``np.array(PIL.Image.open(urllib.request.urlopen(url)))``.\"\u001b[0m\u001b[0;34m\u001b[0m\u001b[0;34m\u001b[0m\u001b[0m\n\u001b[1;32m   1501\u001b[0m             )\n\u001b[0;32m-> 1502\u001b[0;31m     \u001b[0;32mwith\u001b[0m \u001b[0mimg_open\u001b[0m\u001b[0;34m(\u001b[0m\u001b[0mfname\u001b[0m\u001b[0;34m)\u001b[0m \u001b[0;32mas\u001b[0m \u001b[0mimage\u001b[0m\u001b[0;34m:\u001b[0m\u001b[0;34m\u001b[0m\u001b[0;34m\u001b[0m\u001b[0m\n\u001b[0m\u001b[1;32m   1503\u001b[0m         return (_pil_png_to_float_array(image)\n\u001b[1;32m   1504\u001b[0m                 \u001b[0;32mif\u001b[0m \u001b[0misinstance\u001b[0m\u001b[0;34m(\u001b[0m\u001b[0mimage\u001b[0m\u001b[0;34m,\u001b[0m \u001b[0mPIL\u001b[0m\u001b[0;34m.\u001b[0m\u001b[0mPngImagePlugin\u001b[0m\u001b[0;34m.\u001b[0m\u001b[0mPngImageFile\u001b[0m\u001b[0;34m)\u001b[0m \u001b[0;32melse\u001b[0m\u001b[0;34m\u001b[0m\u001b[0;34m\u001b[0m\u001b[0m\n",
      "\u001b[0;32m/usr/local/lib/python3.11/dist-packages/PIL/Image.py\u001b[0m in \u001b[0;36mopen\u001b[0;34m(fp, mode, formats)\u001b[0m\n\u001b[1;32m   3463\u001b[0m \u001b[0;34m\u001b[0m\u001b[0m\n\u001b[1;32m   3464\u001b[0m     \u001b[0;32mif\u001b[0m \u001b[0mfilename\u001b[0m\u001b[0;34m:\u001b[0m\u001b[0;34m\u001b[0m\u001b[0;34m\u001b[0m\u001b[0m\n\u001b[0;32m-> 3465\u001b[0;31m         \u001b[0mfp\u001b[0m \u001b[0;34m=\u001b[0m \u001b[0mbuiltins\u001b[0m\u001b[0;34m.\u001b[0m\u001b[0mopen\u001b[0m\u001b[0;34m(\u001b[0m\u001b[0mfilename\u001b[0m\u001b[0;34m,\u001b[0m \u001b[0;34m\"rb\"\u001b[0m\u001b[0;34m)\u001b[0m\u001b[0;34m\u001b[0m\u001b[0;34m\u001b[0m\u001b[0m\n\u001b[0m\u001b[1;32m   3466\u001b[0m         \u001b[0mexclusive_fp\u001b[0m \u001b[0;34m=\u001b[0m \u001b[0;32mTrue\u001b[0m\u001b[0;34m\u001b[0m\u001b[0;34m\u001b[0m\u001b[0m\n\u001b[1;32m   3467\u001b[0m     \u001b[0;32melse\u001b[0m\u001b[0;34m:\u001b[0m\u001b[0;34m\u001b[0m\u001b[0;34m\u001b[0m\u001b[0m\n",
      "\u001b[0;31mFileNotFoundError\u001b[0m: [Errno 2] No such file or directory: '/content/dataset_Rotiferos-tardigrados/Treino/Tardigrados/imagem12.jpg'"
     ]
    }
   ],
   "source": [
    "img_path = os.path.join(extract_path, \"/content/dataset_Rotiferos-tardigrados/Treino/Tardigrados/imagem12.jpg\")\n",
    "img = mpimg.imread(img_path)\n",
    "\n",
    "plt.imshow(img)\n",
    "plt.axis('off')\n",
    "plt.show()"
   ]
  },
  {
   "cell_type": "markdown",
   "metadata": {
    "id": "vTDsatScHiqV"
   },
   "source": [
    "### **Data Augmentation** 🐥➡️🐓"
   ]
  },
  {
   "cell_type": "markdown",
   "metadata": {
    "id": "ksmiYgBEHnrw"
   },
   "source": [
    "Um dos principais desafios que podem ser enfrentados durante o treinamento de redes neurais é a disponibilidade limitada de dados. Isso, além de tornar o modelo não muito representativo, pode aumentar o risco de *overfitting*.\n",
    "\n",
    "Para a mitigação desse problema, duas principais estratégias são comumente utilizadas: criação de dados sintéticos e *data augmentation*. Essa segunda técnica consiste na manipulação - através de transformações geométricas ou adição de ruídos, por exemplo - das imagens originais destinadas para o treino da rede neural. A partir disso, é possível deixar a base de dados mais robusta e representativa para o problema abordado. [1]"
   ]
  },
  {
   "cell_type": "markdown",
   "metadata": {
    "id": "S0JgeRvKNUJV"
   },
   "source": [
    "#### **Transformações geométricas: Rotação vertical e horizontal** 🔄️"
   ]
  },
  {
   "cell_type": "markdown",
   "metadata": {
    "id": "7RdUhOQ7Njb7"
   },
   "source": [
    "De forma simples, transformações geométricas podem ser entendidas como operações aplicadas a uma figura, resultando em outra figura que mantém características geométricas idênticas ou equivalentes à original.\n",
    "\n",
    "Existem diferentes operações que podem ser consideradas como transformações geométricas, como translação, reflexão e rotação. Essa última, apesar de poder ser realizada a partir da utilização de diferentes centros de rotação, também pode ser feita mediante a rotações nos eixos verticais e horizontal.\n",
    "\n",
    "Dessa forma, a partir da utilização das funções fliplr e fliprud da biblioetca Numpy, iremos, respectivamente, testar a rotação da imagem utilizada como teste (\"imagem12.png\" da pasta de treino da classe dos tardigrados) na vertical e horizontal. [2]"
   ]
  },
  {
   "cell_type": "markdown",
   "metadata": {
    "id": "OpKp9OC3SN1u"
   },
   "source": [
    "**Rotação Vertical**"
   ]
  },
  {
   "cell_type": "code",
   "execution_count": null,
   "metadata": {
    "id": "OiSnr3hUy4Nk"
   },
   "outputs": [],
   "source": [
    "horiz = np.fliplr(img)\n",
    "plt.imshow(horiz)"
   ]
  },
  {
   "cell_type": "markdown",
   "metadata": {
    "id": "NRQ6rDwSSSc4"
   },
   "source": [
    "**Rotação Horizontal**"
   ]
  },
  {
   "cell_type": "code",
   "execution_count": null,
   "metadata": {
    "id": "eBku5hHT-0LV"
   },
   "outputs": [],
   "source": [
    "vert = np.flipud(img)\n",
    "plt.imshow(vert)"
   ]
  },
  {
   "cell_type": "markdown",
   "metadata": {
    "id": "ii-29ckTSU0V"
   },
   "source": [
    "#### **Ruído Gaussiano** 🔔"
   ]
  },
  {
   "cell_type": "markdown",
   "metadata": {
    "id": "mP-MtIS6TO36"
   },
   "source": [
    "Como outra forma de induzir a criação de novas imagens, é possível adicionar ruídos às imagens pré-existentes. Dentre um dos mais utilizados, destaca-se o ruído gaussiano, o qual é uma forma de ruído aleatório na qual a função de densidade probabilidade (pdf) segue uma distribuição normal, tal como a demonstrada pela figura 1.\n",
    "\n",
    "No contexto abordado, o ruído gaussiano é particularmente relevante, já que esse tipo de interferência é comumente observado em imagens obtidas por microscopia óptica.\n",
    "\n",
    "Para a adição do ruído às imagens, a função random_noise, também da biblioteca Numpy, pode ser utilizada, com a especificação do argumento \"mode\" para \"gaussian\" (indicativo da aplicação do ruído gaussiano)."
   ]
  },
  {
   "cell_type": "markdown",
   "metadata": {
    "id": "xKn-jLkwaLxB"
   },
   "source": [
    "![1_uzG4tJoRhWx2d5wat1P1bQ.webp](data:image/webp;base64,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)"
   ]
  },
  {
   "cell_type": "markdown",
   "metadata": {
    "id": "oJ5g5uPFaPs_"
   },
   "source": [
    "<p style=\"text-align:center;\">\n",
    "[Figura 1: Distribuição Gaussiana]\n",
    "</p>"
   ]
  },
  {
   "cell_type": "code",
   "execution_count": null,
   "metadata": {
    "id": "Tfa4jTAy5JZi"
   },
   "outputs": [],
   "source": [
    "noise = random_noise(img, mode=\"gaussian\", clip=True)\n",
    "plt.imshow(noise)"
   ]
  },
  {
   "cell_type": "markdown",
   "metadata": {
    "id": "U9Hrtu18Tr5j"
   },
   "source": [
    "**Manipulação das imagens** 🔔🔄️➡️🖼️"
   ]
  },
  {
   "cell_type": "markdown",
   "metadata": {
    "id": "yXC-MTazWJRm"
   },
   "source": [
    "Partindo das técnicas abordadas anteriormente, a função \"Augmentation\" será definida. Nela, dado um determinado diretório, cada imagem contida ou será rotacionada (verticalmente ou horizontalmente) ou receberá adição de ruído gaussiano, sendo que a escolha dependerá do sorteio realizado por meio da biblioteca Random. Ao final, em ambas as pastas contidas no diretório de treino (referentes as labels Tardigrados e Rotíferos), as imagens serão \"duplicadas\", com a duplicata sendo indicada pela inserção do nome da operação realizada ao final do título da figura."
   ]
  },
  {
   "cell_type": "code",
   "execution_count": null,
   "metadata": {
    "id": "l4lzNdrYAYCo"
   },
   "outputs": [],
   "source": [
    "import random\n",
    "def augmentation(caminho):\n",
    "  num_imagem = 0\n",
    "  for i in os.listdir(caminho):\n",
    "    img_path = os.path.join(f\"{caminho}{i}\")  # Substitua pelo nome da imagem\n",
    "    img = mpimg.imread(img_path)\n",
    "    num_imagem += 1\n",
    "    sorteio = random.choices(['gauss_noise', 'horizontal','vertical'])   #sorteia o tipo de modificação\n",
    "\n",
    "    if sorteio == 'gauss_noise':\n",
    "      noise = random_noise(img, mode=\"gaussian\", clip=True)\n",
    "\n",
    "    elif sorteio == 'horizontal':\n",
    "      horiz = np.fliplr(img)\n",
    "\n",
    "    else:\n",
    "      vert = np.flipud(img)\n",
    "\n",
    "    plt.savefig(f\"{caminho}{num_imagem}_{sorteio}.png\")\n"
   ]
  },
  {
   "cell_type": "code",
   "execution_count": null,
   "metadata": {
    "id": "_vloo6v0CRAS"
   },
   "outputs": [],
   "source": [
    "augmentation(caminho='/content/imagens/dataset_Rotiferos-tardigrados/Treino/Tardigrados/') # aplicação da função"
   ]
  },
  {
   "cell_type": "code",
   "execution_count": null,
   "metadata": {
    "id": "pkVxbUUKELoF"
   },
   "outputs": [],
   "source": [
    "tardigrados = os.listdir('/content/imagens/dataset_Rotiferos-tardigrados/Treino/Tardigrados/') # listagem de todos os arquivos contidos no diretório\n",
    "tardigrados"
   ]
  },
  {
   "cell_type": "code",
   "execution_count": null,
   "metadata": {
    "id": "pT_CpLHBC7Qj"
   },
   "outputs": [],
   "source": [
    "for arquivo in tardigrados:\n",
    "  if arquivo.lower().endswith(('.jpg', '.jpeg')):\n",
    "    nome_arquivo_t = os.path.splitext(arquivo)[0]\n",
    "    plt.savefig(f\"/content/imagens/dataset_Rotiferos-tardigrados/Treino/Tardigrados/{nome_arquivo_t}.png\")\n",
    "  else:\n",
    "    continue\n"
   ]
  },
  {
   "cell_type": "code",
   "execution_count": null,
   "metadata": {
    "id": "NLVu-_wKFB3F"
   },
   "outputs": [],
   "source": [
    "\"\"\"Redimensionando as imagens para o mesmo tamanho com Pytorch\"\"\"\n",
    "numero = 1\n",
    "for arquivo in tardigrados:\n",
    "    # Abre a imagem\n",
    "    img = Image.open(f\"/content/imagens/dataset_Rotiferos-tardigrados/Treino/Tardigrados/{arquivo}\")\n",
    "\n",
    "    # Converte para RGB se estiver em RGBA ou outros modos\n",
    "    if img.mode != 'RGB':\n",
    "        img = img.convert('RGB')\n",
    "\n",
    "    # Redimensiona com PyTorch\n",
    "    resize_transform = transforms.Resize((32, 32))\n",
    "\n",
    "    resized_img = resize_transform(img)\n",
    "\n",
    "    pasta_saida = \"imagens_redimensionadas\"\n",
    "\n",
    "    # Verifica se o arquivo já existe\n",
    "    if os.path.exists(f'/content/imagens/dataset_Rotiferos-tardigrados/Treino/Tardigrados/{arquivo}'):\n",
    "        os.remove(f'/content/imagens/dataset_Rotiferos-tardigrados/Treino/Tardigrados/{arquivo}')\n",
    "\n",
    "    resized_img.save(f'/content/imagens/dataset_Rotiferos-tardigrados/Treino/Tardigrados/resized_image{numero}.jpg')\n",
    "\n",
    "    numero += 1\n"
   ]
  },
  {
   "cell_type": "code",
   "execution_count": null,
   "metadata": {
    "id": "aYtAQeabMvPf"
   },
   "outputs": [],
   "source": [
    "os.listdir('/content/imagens/dataset_Rotiferos-tardigrados/Treino/Tardigrados')"
   ]
  },
  {
   "cell_type": "markdown",
   "metadata": {
    "id": "J1bZRLwOMomj"
   },
   "source": [
    "Fazendo o aumento dos dados das imagens de treino para os Rotiferos."
   ]
  },
  {
   "cell_type": "code",
   "execution_count": null,
   "metadata": {
    "id": "DMiulCCEQsFa"
   },
   "outputs": [],
   "source": [
    "augmentation('/content/imagens/dataset_Rotiferos-tardigrados/Treino/Rotiferos/')"
   ]
  },
  {
   "cell_type": "code",
   "execution_count": null,
   "metadata": {
    "id": "9zOhBn7rRChV"
   },
   "outputs": [],
   "source": [
    "rotiferos = os.listdir('/content/imagens/dataset_Rotiferos-tardigrados/Treino/Rotiferos/')"
   ]
  },
  {
   "cell_type": "code",
   "execution_count": null,
   "metadata": {
    "id": "WYq08PINE1hV"
   },
   "outputs": [],
   "source": [
    "for arquivo in rotiferos:\n",
    "  if arquivo.lower().endswith(('.jpg', '.jpeg')):\n",
    "    nome_arquivo_r = os.path.splitext(arquivo)[0]\n",
    "    plt.savefig(f\"/content/imagens/dataset_Rotiferos-tardigrados/Treino/Rotiferos/{nome_arquivo_r}.png\")\n",
    "  else:\n",
    "    continue"
   ]
  },
  {
   "cell_type": "code",
   "execution_count": null,
   "metadata": {
    "id": "XQbHisByGaq0"
   },
   "outputs": [],
   "source": [
    "\"\"\"Redimensionando as imagens para o mesmo tamanho com Pytorch\"\"\"\n",
    "numero = 1\n",
    "for arquivo in rotiferos:\n",
    "    # Abre a imagem\n",
    "    img = Image.open(f\"/content/imagens/dataset_Rotiferos-tardigrados/Treino/Rotiferos/{arquivo}\")\n",
    "\n",
    "    # Converte para RGB se estiver em RGBA ou outros modos\n",
    "    if img.mode != 'RGB':\n",
    "        img = img.convert('RGB')\n",
    "\n",
    "    # Redimensiona com PyTorch\n",
    "    resize_transform = transforms.Resize((32, 32))\n",
    "\n",
    "    resized_img = resize_transform(img)\n",
    "\n",
    "    pasta_saida = \"imagens_redimensionadas\"\n",
    "\n",
    "    # Verifica se o arquivo já existe\n",
    "    if os.path.exists(f'/content/imagens/dataset_Rotiferos-tardigrados/Treino/Rotiferos/{arquivo}'):\n",
    "      os.remove(f'/content/imagens/dataset_Rotiferos-tardigrados/Treino/Rotiferos/{arquivo}')\n",
    "\n",
    "    resized_img.save(f'/content/imagens/dataset_Rotiferos-tardigrados/Treino/Rotiferos/resized_image{numero}.jpg')\n",
    "\n",
    "    numero += 1\n"
   ]
  },
  {
   "cell_type": "code",
   "execution_count": null,
   "metadata": {
    "id": "Vk6uQuc5JgYe"
   },
   "outputs": [],
   "source": [
    "os.listdir(\"/content/imagens/dataset_Rotiferos-tardigrados/Treino/Rotiferos\")"
   ]
  },
  {
   "cell_type": "markdown",
   "metadata": {
    "id": "ZFiiyNOEU7I1"
   },
   "source": [
    "Para fazer o download da versão atualizada desses arquivos em formato zip, podemos utilizar o módulo shutil. [5]"
   ]
  },
  {
   "cell_type": "code",
   "execution_count": null,
   "metadata": {
    "id": "kgTt5XoLbuzG"
   },
   "outputs": [],
   "source": [
    "shutil.make_archive(\"dataset_rotiferos_tardigrados_aumentado\", \"zip\", \"/content/imagens/Rotiferos-tardigrados\",  )"
   ]
  },
  {
   "cell_type": "code",
   "execution_count": null,
   "metadata": {
    "id": "9Ea4hx6TPSFu"
   },
   "outputs": [],
   "source": [
    "os.getcwd()"
   ]
  },
  {
   "cell_type": "code",
   "execution_count": null,
   "metadata": {
    "id": "RdVoVFfVO1D6"
   },
   "outputs": [],
   "source": [
    "os.listdir(\"/content/rotiferos_tardigrados_aumentado.zip\")"
   ]
  },
  {
   "cell_type": "markdown",
   "metadata": {
    "id": "xo9JFwhnZKgL"
   },
   "source": [
    "### **Conclusão** 😶‍🌫️"
   ]
  },
  {
   "cell_type": "markdown",
   "metadata": {
    "id": "9ycOwxWKZV0z"
   },
   "source": [
    "Portanto, geramos o dataset desejado com os imagens de tardígrados e rotíferos, que será utilizado para o desenvolvimento da rede neural convolucional. Assim como, aumentou-se os dados obtidos, buscando um melhor desempenho da rede, ou, ao menos, maior volumes de informações para sua empregação."
   ]
  },
  {
   "cell_type": "markdown",
   "metadata": {
    "id": "ncFHxOQcPaGZ"
   },
   "source": [
    "### **Referências** 🗃️"
   ]
  },
  {
   "cell_type": "markdown",
   "metadata": {
    "id": "hRr2qz52Pf0N"
   },
   "source": [
    "[1]  Dahms, H.-U., Hagiwara, A. & Lee, J.-S. Ecotoxicology, ecophysiology, and \n",
    "mechanistic studies with rotifers. Aquat. Toxicol. 101, 1–12 (2011).\n",
    "\n",
    "[2] (PDF) The biomedical potential of tardigrade proteins: A review. ResearchGate (2024) \n",
    "doi:10.1016/j.biopha.2022.114063\n",
    "\n",
    "[3] SCIENCE, ODSC-Open Data. Image Augmentation for Convolutional Neural Networks. Disponível em: <https://odsc.medium.com/image-augmentation-for-convolutional-neural-networks-18319e1291c>. Acesso em: 14 abr. 2025.\n",
    "\n",
    "[4]Transformações geométricas: translação, rotação e reflexão. Toda Matéria. Disponível em: <https://www.todamateria.com.br/transformacoes-geometricas/>. Acesso em: 14 abr. 2025.\n",
    "\n",
    "[5] YADAV, Amit. What is Gaussian Noise and Why It’s Useful? Disponível em: <https://medium.com/@amit25173/what-is-gaussian-noise-and-why-its-useful-b3c50dd14628>. Acesso em: 14 abr. 2025.\n",
    "\n",
    "[6] Gaussian noise. In: Wikipedia. [s.l.: s.n.], 2025. Disponível em: <https://en.wikipedia.org/w/index.php?title=Gaussian_noise&oldid=1285312637>. Acesso em: 15 abr. 2025.\n",
    "\n",
    "[7] shutil — High-level file operations. Python documentation. Disponível em: <https://docs.python.org/3/library/shutil.html>. Acesso em: 15 abr. 2025."
   ]
  }
 ],
 "metadata": {
  "colab": {
   "provenance": []
  },
  "kernelspec": {
   "display_name": "Python 3 (ipykernel)",
   "language": "python",
   "name": "python3"
  },
  "language_info": {
   "codemirror_mode": {
    "name": "ipython",
    "version": 3
   },
   "file_extension": ".py",
   "mimetype": "text/x-python",
   "name": "python",
   "nbconvert_exporter": "python",
   "pygments_lexer": "ipython3",
   "version": "3.11.5"
  }
 },
 "nbformat": 4,
 "nbformat_minor": 1
}
